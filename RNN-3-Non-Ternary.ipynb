{
 "cells": [
  {
   "cell_type": "code",
   "execution_count": 78,
   "metadata": {
    "scrolled": true
   },
   "outputs": [],
   "source": [
    "from __future__ import print_function\n",
    "\n",
    "from keras.models import Sequential\n",
    "from keras.layers import Input, LSTM, Dense, Dropout, GRU\n",
    "import numpy as np\n",
    "import csv\n",
    "import os\n",
    "import matplotlib.pyplot as plt\n",
    "from sklearn.metrics import r2_score\n",
    "from keras import optimizers\n",
    "import tensorflow as tf"
   ]
  },
  {
   "cell_type": "code",
   "execution_count": 79,
   "metadata": {
    "collapsed": true
   },
   "outputs": [],
   "source": [
    "sess = tf.Session(config=tf.ConfigProto(log_device_placement=True))"
   ]
  },
  {
   "cell_type": "code",
   "execution_count": 2,
   "metadata": {
    "collapsed": true
   },
   "outputs": [],
   "source": [
    "nteams = 20\n",
    "nmatches = (nteams-1)*2"
   ]
  },
  {
   "cell_type": "code",
   "execution_count": 3,
   "metadata": {
    "collapsed": true
   },
   "outputs": [],
   "source": [
    "batch_size = 64  # Batch size for training.\n",
    "epochs = 100  # Number of epochs to train for.\n",
    "latent_dim = 256  # Latent dimensionality of the encoding space.\n",
    "num_samples = 10000  # Number of samples to train on.\n",
    "# Path to the data txt file on disk.\n",
    "data_path = 'fra-eng/fra.txt'"
   ]
  },
  {
   "cell_type": "markdown",
   "metadata": {},
   "source": [
    "Data Pre-processing"
   ]
  },
  {
   "cell_type": "code",
   "execution_count": 4,
   "metadata": {
    "collapsed": true
   },
   "outputs": [],
   "source": [
    "def season_team_map(season_dir):\n",
    "    readme = season_dir + '/README.md'\n",
    "    f = open(readme, 'r')\n",
    "    \n",
    "    s = \"  \"\n",
    "    \n",
    "    # skip to teams\n",
    "    while(s[1] != '1'):\n",
    "        s = f.readline()\n",
    "        if(len(s)<=1):\n",
    "            s = \"  \"\n",
    "\n",
    "    team_map = {}\n",
    "\n",
    "    for i in range(20):\n",
    "        team_map[s[4:].split('  ')[0]] = i\n",
    "        s = f.readline()\n",
    "\n",
    "    f.close()\n",
    "    \n",
    "    return team_map"
   ]
  },
  {
   "cell_type": "code",
   "execution_count": 14,
   "metadata": {
    "collapsed": true
   },
   "outputs": [],
   "source": [
    "def season_team_map_div_2(season_dir):\n",
    "    readme = season_dir + '/README.md'\n",
    "    f = open(readme, 'r')\n",
    "    \n",
    "    s = \"  \"\n",
    "    \n",
    "    # skip to teams\n",
    "    while(s[1] != '1'):\n",
    "        s = f.readline()\n",
    "        if(len(s)<=1):\n",
    "            s = \"  \"\n",
    "            \n",
    "    s = f.readline()\n",
    "    if(len(s)<=1):\n",
    "        s = \"  \"    \n",
    "        \n",
    "     # skip to div 2 teams\n",
    "    while(s[:3] != ' 1.'):\n",
    "        s = f.readline()\n",
    "        if(len(s)<=1):\n",
    "            s = \"  \"\n",
    "\n",
    "    team_map = {}\n",
    "\n",
    "    for i in range(20):\n",
    "        team_map[s[4:].split('  ')[0]] = i\n",
    "        s = f.readline()\n",
    "\n",
    "    f.close()\n",
    "    \n",
    "    return team_map"
   ]
  },
  {
   "cell_type": "code",
   "execution_count": 8,
   "metadata": {
    "collapsed": true
   },
   "outputs": [],
   "source": [
    "def season_game_mat(season_dir, team_map, div=1):\n",
    "    game_mat = np.zeros((nteams, nmatches), dtype=int)\n",
    "    team_index = np.zeros(nteams, dtype=int)\n",
    "\n",
    "    csvfile = ''\n",
    "    \n",
    "    for entry in os.scandir(season_dir):\n",
    "        if(div==1):\n",
    "            if '/1-' in entry.path:\n",
    "                csvfile = entry.path\n",
    "        elif(div==2):\n",
    "            if '/2-' in entry.path:\n",
    "                csvfile = entry.path\n",
    "            \n",
    "    with open(csvfile) as gf:\n",
    "        reader = csv.reader(gf)\n",
    "        header = next(reader)\n",
    "        if(header[0] == 'Round'):\n",
    "            new_format = 1\n",
    "        else:\n",
    "            new_format = 0;\n",
    "        for row in reader:\n",
    "            if(new_format):\n",
    "                team1 = team_map[row[2].split(' (')[0]]\n",
    "                team2 = team_map[row[5].split(' (')[0]]\n",
    "\n",
    "                score = row[3].split('-')\n",
    "            else:\n",
    "                team1 = team_map[row[1]]\n",
    "                team2 = team_map[row[2]]\n",
    "\n",
    "                score = row[3].split('-')\n",
    "            # 1 for win, 0 for draw, -1 for loss\n",
    "\n",
    "            game_mat[team1, team_index[team1]] = int(score[0]) - int(score[1])\n",
    "            game_mat[team2, team_index[team2]] = int(score[1]) - int(score[0])\n",
    "\n",
    "            team_index[team1] += 1\n",
    "            team_index[team2] += 1\n",
    "    \n",
    "    return np.transpose(game_mat)"
   ]
  },
  {
   "cell_type": "code",
   "execution_count": 15,
   "metadata": {},
   "outputs": [],
   "source": [
    "country_dirs = []\n",
    "season_dirs = []\n",
    "\n",
    "nseasons = 0\n",
    "team_maps = []\n",
    "game_mats = []\n",
    "\n",
    "for entry in os.scandir('./data'):\n",
    "    if entry.is_dir():\n",
    "        country_dirs.append(entry.path)\n",
    "\n",
    "for cdir in country_dirs:\n",
    "    for entry in os.scandir(cdir):\n",
    "        if entry.is_dir():\n",
    "            season_dir = entry.path\n",
    "            team_maps.append(season_team_map(season_dir))\n",
    "            game_mats.append(season_game_mat(season_dir, team_maps[nseasons]))\n",
    "            nseasons += 1\n",
    "            if(cdir=='./data/fr-france-master' and int(entry.name.split('-')[0])>=2002):\n",
    "                team_maps.append(season_team_map_div_2(season_dir))\n",
    "                game_mats.append(season_game_mat(season_dir, team_maps[nseasons], div=2))\n",
    "                nseasons += 1"
   ]
  },
  {
   "cell_type": "code",
   "execution_count": 16,
   "metadata": {
    "collapsed": true
   },
   "outputs": [],
   "source": [
    "def eucl_error(outputs, targets):\n",
    "    return np.mean(np.abs(targets - outputs))"
   ]
  },
  {
   "cell_type": "code",
   "execution_count": 17,
   "metadata": {
    "collapsed": true
   },
   "outputs": [],
   "source": [
    "def ternarize(x):\n",
    "    if(x > 0.5):\n",
    "        return 1\n",
    "    if(x < -0.5):\n",
    "        return -1\n",
    "    return 0\n",
    "\n",
    "def disc_error(outputs, targets):\n",
    "    ternarize_fn = np.vectorize(ternarize)\n",
    "    ternarized_outputs = ternarize_fn(np.round(outputs))\n",
    "    ternarized_targets = ternarize_fn(np.round(targets))\n",
    "    err = 0\n",
    "    n = 0\n",
    "    for i in range(len(outputs)):\n",
    "        for j in range(len(outputs[i])):\n",
    "            if(int(ternarized_outputs[i][j]) != int(ternarized_targets[i][j])):\n",
    "                err += 1\n",
    "            n += 1\n",
    "    return float(err)/n"
   ]
  },
  {
   "cell_type": "code",
   "execution_count": 19,
   "metadata": {
    "collapsed": true
   },
   "outputs": [],
   "source": [
    "ntraining = int(nseasons*0.7)\n",
    "ntesting = nseasons - ntraining\n",
    "\n",
    "training_game_mats = game_mats[:ntraining]\n",
    "testing_game_mats = game_mats[ntesting:]\n",
    "\n",
    "X_training = np.reshape(np.array(training_game_mats), (ntraining*nmatches, nteams))\n",
    "lengths = np.full(ntraining, nmatches)"
   ]
  },
  {
   "cell_type": "code",
   "execution_count": 20,
   "metadata": {},
   "outputs": [
    {
     "data": {
      "text/plain": [
       "88"
      ]
     },
     "execution_count": 20,
     "metadata": {},
     "output_type": "execute_result"
    }
   ],
   "source": [
    "nseasons"
   ]
  },
  {
   "cell_type": "code",
   "execution_count": 21,
   "metadata": {},
   "outputs": [
    {
     "data": {
      "text/plain": [
       "61"
      ]
     },
     "execution_count": 21,
     "metadata": {},
     "output_type": "execute_result"
    }
   ],
   "source": [
    "ntraining"
   ]
  },
  {
   "cell_type": "code",
   "execution_count": 45,
   "metadata": {},
   "outputs": [],
   "source": [
    "Xs = []\n",
    "Ys = []\n",
    "for i in range(1, nmatches):\n",
    "    X = []\n",
    "    Y = []\n",
    "    for game_mat in game_mats:\n",
    "        for j in range(nmatches-i):\n",
    "            X.append(np.ndarray.flatten(game_mat[j:j+i]))\n",
    "            Y.append(game_mat[j+i])\n",
    "    \n",
    "    X = np.array(X).reshape(-1,i,nteams)\n",
    "    Y = np.array(Y).reshape(-1,nteams)\n",
    "    Xs.append(X)\n",
    "    Ys.append(Y)"
   ]
  },
  {
   "cell_type": "code",
   "execution_count": 22,
   "metadata": {
    "collapsed": true
   },
   "outputs": [],
   "source": [
    "X_trainings = []\n",
    "Y_trainings = []\n",
    "for i in range(1, nmatches):\n",
    "    X_training = []\n",
    "    Y_training = []\n",
    "    for game_mat in training_game_mats:\n",
    "        for j in range(nmatches-i):\n",
    "            X_training.append(np.ndarray.flatten(game_mat[j:j+i]))\n",
    "            Y_training.append(game_mat[j+i])\n",
    "    \n",
    "    X_training = np.array(X_training).reshape(-1,i,nteams)\n",
    "    Y_training = np.array(Y_training).reshape(-1,nteams)\n",
    "    X_trainings.append(X_training)\n",
    "    Y_trainings.append(Y_training)"
   ]
  },
  {
   "cell_type": "code",
   "execution_count": 23,
   "metadata": {
    "collapsed": true
   },
   "outputs": [],
   "source": [
    "X_testings = []\n",
    "Y_testings = []\n",
    "for i in range(1, nmatches):\n",
    "    X_testing = []\n",
    "    Y_testing = []\n",
    "    for game_mat in testing_game_mats:\n",
    "        for j in range(nmatches-i):\n",
    "            X_testing.append(np.ndarray.flatten(game_mat[j:j+i]))\n",
    "            Y_testing.append(game_mat[j+i])\n",
    "            \n",
    "    X_testing = np.array(X_testing).reshape(-1,i,nteams)\n",
    "    Y_testing = np.array(Y_testing).reshape(-1,nteams)\n",
    "    X_testings.append(X_testing)\n",
    "    Y_testings.append(Y_testing)"
   ]
  },
  {
   "cell_type": "code",
   "execution_count": 24,
   "metadata": {
    "collapsed": true
   },
   "outputs": [],
   "source": [
    "layer_sizes = [200]"
   ]
  },
  {
   "cell_type": "code",
   "execution_count": 25,
   "metadata": {
    "collapsed": true
   },
   "outputs": [],
   "source": [
    "rnns = {}\n",
    "for size in layer_sizes:\n",
    "    key = str(size)+'_neuron_layers'\n",
    "    rnns[key] = []"
   ]
  },
  {
   "cell_type": "code",
   "execution_count": 26,
   "metadata": {
    "collapsed": true
   },
   "outputs": [],
   "source": [
    "histories = {}\n",
    "for size in layer_sizes:\n",
    "    key = str(size)+'_neuron_layers'\n",
    "    histories[key] = []"
   ]
  },
  {
   "cell_type": "code",
   "execution_count": 68,
   "metadata": {
    "collapsed": true
   },
   "outputs": [],
   "source": [
    "epochs = 20\n",
    "max_sequence_length = 10\n",
    "size = 200"
   ]
  },
  {
   "cell_type": "code",
   "execution_count": 75,
   "metadata": {},
   "outputs": [
    {
     "name": "stdout",
     "output_type": "stream",
     "text": [
      "Epoch 1/10\n",
      "1830/1830 [==============================] - 7s 4ms/step - loss: 2.6990\n",
      "Epoch 2/10\n",
      "1830/1830 [==============================] - 4s 2ms/step - loss: 2.6448\n",
      "Epoch 3/10\n",
      "1830/1830 [==============================] - 4s 2ms/step - loss: 2.6135A: 3s - loss:\n",
      "Epoch 4/10\n",
      "1830/1830 [==============================] - 4s 2ms/step - loss: 2.5735\n",
      "Epoch 5/10\n",
      "1830/1830 [==============================] - 4s 2ms/step - loss: 2.5184\n",
      "Epoch 6/10\n",
      "1830/1830 [==============================] - 4s 2ms/step - loss: 2.4355\n",
      "Epoch 7/10\n",
      "1830/1830 [==============================] - 4s 2ms/step - loss: 2.3279\n",
      "Epoch 8/10\n",
      "1830/1830 [==============================] - 5s 2ms/step - loss: 2.2167\n",
      "Epoch 9/10\n",
      "1830/1830 [==============================] - 4s 2ms/step - loss: 2.0981\n",
      "Epoch 10/10\n",
      "1830/1830 [==============================] - 4s 2ms/step - loss: 1.9921\n"
     ]
    }
   ],
   "source": [
    "model = Sequential()\n",
    "model.add(GRU(size, input_shape=(8, nteams), return_sequences=True))\n",
    "model.add(Dropout(0.2))\n",
    "model.add(GRU(size))\n",
    "model.add(Dropout(0.2))\n",
    "#model.add(Dense(nteams, activation='softmax'))\n",
    "model.add(Dense(nteams, activation='tanh'))\n",
    "opt = optimizers.Adam(lr=0.001)\n",
    "model.compile(loss='mean_squared_error', optimizer=opt)\n",
    "history = model.fit(X_trainings[7], np.array(Y_trainings[7]), batch_size=10, epochs=10)"
   ]
  },
  {
   "cell_type": "code",
   "execution_count": 76,
   "metadata": {},
   "outputs": [],
   "source": [
    "output = model.predict(X_trainings[7])\n",
    "tr_acc = 1 - disc_error(output, np.array(Y_trainings[7]))\n",
    "tr_eerr = eucl_error(output, np.array(Y_trainings[7]))\n",
    "\n",
    "output = model.predict(X_testings[7])\n",
    "te_acc = 1 - disc_error(output, np.array(Y_testings[7]))\n",
    "te_eerr = eucl_error(output, np.array(Y_testings[7]))"
   ]
  },
  {
   "cell_type": "code",
   "execution_count": 77,
   "metadata": {
    "scrolled": true
   },
   "outputs": [
    {
     "name": "stdout",
     "output_type": "stream",
     "text": [
      "0.6188524590163935 1.00598396692 0.5290437158469945 1.18390556904\n"
     ]
    }
   ],
   "source": [
    "print(tr_acc, tr_eerr, te_acc, te_eerr)"
   ]
  },
  {
   "cell_type": "code",
   "execution_count": 74,
   "metadata": {},
   "outputs": [
    {
     "name": "stdout",
     "output_type": "stream",
     "text": [
      "dict_keys(['loss'])\n"
     ]
    }
   ],
   "source": [
    "print(history.history.keys())"
   ]
  },
  {
   "cell_type": "code",
   "execution_count": 67,
   "metadata": {},
   "outputs": [
    {
     "data": {
      "image/png": "[encoded data removed]",
      "text/plain": [
       "<matplotlib.figure.Figure at 0x1a44b122b0>"
      ]
     },
     "metadata": {},
     "output_type": "display_data"
    }
   ],
   "source": [
    "plt.plot(history.history['loss'])\n",
    "plt.show()"
   ]
  },
  {
   "cell_type": "code",
   "execution_count": 28,
   "metadata": {},
   "outputs": [
    {
     "name": "stdout",
     "output_type": "stream",
     "text": [
      "Epoch 1/20\n",
      "2257/2257 [==============================] - 2s 758us/step - loss: 2.7499\n",
      "Epoch 2/20\n",
      "2257/2257 [==============================] - 1s 368us/step - loss: 2.6384\n",
      "Epoch 3/20\n",
      "2257/2257 [==============================] - 0s 203us/step - loss: 2.6140\n",
      "Epoch 4/20\n",
      "2257/2257 [==============================] - 1s 255us/step - loss: 2.6019\n",
      "Epoch 5/20\n",
      "2257/2257 [==============================] - 1s 374us/step - loss: 2.5915\n",
      "Epoch 6/20\n",
      "2257/2257 [==============================] - 0s 192us/step - loss: 2.5844\n",
      "Epoch 7/20\n",
      "2257/2257 [==============================] - 0s 215us/step - loss: 2.5798\n",
      "Epoch 8/20\n",
      "2257/2257 [==============================] - 0s 189us/step - loss: 2.5688\n",
      "Epoch 9/20\n",
      "2257/2257 [==============================] - 1s 246us/step - loss: 2.5665\n",
      "Epoch 10/20\n",
      "2257/2257 [==============================] - 0s 195us/step - loss: 2.5572\n",
      "Epoch 11/20\n",
      "2257/2257 [==============================] - 0s 194us/step - loss: 2.5498\n",
      "Epoch 12/20\n",
      "2257/2257 [==============================] - 0s 202us/step - loss: 2.5440\n",
      "Epoch 13/20\n",
      "2257/2257 [==============================] - 0s 200us/step - loss: 2.5319\n",
      "Epoch 14/20\n",
      "2257/2257 [==============================] - 0s 204us/step - loss: 2.5252\n",
      "Epoch 15/20\n",
      "2257/2257 [==============================] - 0s 218us/step - loss: 2.5228\n",
      "Epoch 16/20\n",
      "2257/2257 [==============================] - 0s 207us/step - loss: 2.5140\n",
      "Epoch 17/20\n",
      "2257/2257 [==============================] - 0s 211us/step - loss: 2.5046\n",
      "Epoch 18/20\n",
      "2257/2257 [==============================] - 0s 210us/step - loss: 2.4955\n",
      "Epoch 19/20\n",
      "2257/2257 [==============================] - 0s 209us/step - loss: 2.4912\n",
      "Epoch 20/20\n",
      "2257/2257 [==============================] - 0s 210us/step - loss: 2.4821\n",
      "Epoch 1/20\n",
      "2196/2196 [==============================] - 2s 1ms/step - loss: 2.7109\n",
      "Epoch 2/20\n",
      "2196/2196 [==============================] - 1s 428us/step - loss: 2.6299\n",
      "Epoch 3/20\n",
      "2196/2196 [==============================] - 1s 295us/step - loss: 2.6072\n",
      "Epoch 4/20\n",
      "2196/2196 [==============================] - 1s 335us/step - loss: 2.5895\n",
      "Epoch 5/20\n",
      "2196/2196 [==============================] - 1s 289us/step - loss: 2.5743\n",
      "Epoch 6/20\n",
      "2196/2196 [==============================] - 1s 294us/step - loss: 2.5544 0s - lo\n",
      "Epoch 7/20\n",
      "2196/2196 [==============================] - 1s 291us/step - loss: 2.5354\n",
      "Epoch 8/20\n",
      "2196/2196 [==============================] - 1s 290us/step - loss: 2.5168\n",
      "Epoch 9/20\n",
      "2196/2196 [==============================] - 1s 344us/step - loss: 2.4880\n",
      "Epoch 10/20\n",
      "2196/2196 [==============================] - 1s 262us/step - loss: 2.4570\n",
      "Epoch 11/20\n",
      "2196/2196 [==============================] - 1s 274us/step - loss: 2.4222\n",
      "Epoch 12/20\n",
      "2196/2196 [==============================] - 1s 251us/step - loss: 2.3869\n",
      "Epoch 13/20\n",
      "2196/2196 [==============================] - 1s 259us/step - loss: 2.3550\n",
      "Epoch 14/20\n",
      "2196/2196 [==============================] - 1s 258us/step - loss: 2.3174\n",
      "Epoch 15/20\n",
      "2196/2196 [==============================] - 1s 267us/step - loss: 2.2765 0s - lo\n",
      "Epoch 16/20\n",
      "2196/2196 [==============================] - 1s 273us/step - loss: 2.2419\n",
      "Epoch 17/20\n",
      "2196/2196 [==============================] - 1s 274us/step - loss: 2.2079\n",
      "Epoch 18/20\n",
      "2196/2196 [==============================] - 1s 276us/step - loss: 2.1747\n",
      "Epoch 19/20\n",
      "2196/2196 [==============================] - 1s 276us/step - loss: 2.1349\n",
      "Epoch 20/20\n",
      "2196/2196 [==============================] - 1s 298us/step - loss: 2.1102\n",
      "Epoch 1/20\n",
      "2135/2135 [==============================] - 2s 720us/step - loss: 2.7030\n",
      "Epoch 2/20\n",
      "2135/2135 [==============================] - 1s 328us/step - loss: 2.6266\n",
      "Epoch 3/20\n",
      "2135/2135 [==============================] - 1s 319us/step - loss: 2.6093\n",
      "Epoch 4/20\n",
      "2135/2135 [==============================] - 1s 382us/step - loss: 2.5931\n",
      "Epoch 5/20\n",
      "2135/2135 [==============================] - 1s 424us/step - loss: 2.5747\n",
      "Epoch 6/20\n",
      "2135/2135 [==============================] - 1s 345us/step - loss: 2.5599\n",
      "Epoch 7/20\n",
      "2135/2135 [==============================] - 1s 332us/step - loss: 2.5400\n",
      "Epoch 8/20\n",
      "2135/2135 [==============================] - 1s 352us/step - loss: 2.5126\n",
      "Epoch 9/20\n",
      "2135/2135 [==============================] - 1s 489us/step - loss: 2.4770\n",
      "Epoch 10/20\n",
      "2135/2135 [==============================] - 1s 354us/step - loss: 2.4407\n",
      "Epoch 11/20\n",
      "2135/2135 [==============================] - 1s 366us/step - loss: 2.3976\n",
      "Epoch 12/20\n",
      "2135/2135 [==============================] - 1s 401us/step - loss: 2.3450\n",
      "Epoch 13/20\n",
      "2135/2135 [==============================] - 1s 519us/step - loss: 2.3012\n",
      "Epoch 14/20\n",
      "2135/2135 [==============================] - 1s 455us/step - loss: 2.2518\n",
      "Epoch 15/20\n",
      "2135/2135 [==============================] - 1s 636us/step - loss: 2.2006\n",
      "Epoch 16/20\n",
      "2135/2135 [==============================] - 1s 427us/step - loss: 2.1513\n",
      "Epoch 17/20\n",
      "2135/2135 [==============================] - 1s 356us/step - loss: 2.0990\n",
      "Epoch 18/20\n",
      "2135/2135 [==============================] - 1s 409us/step - loss: 2.0565 0s\n",
      "Epoch 19/20\n",
      "2135/2135 [==============================] - 1s 415us/step - loss: 2.0142\n",
      "Epoch 20/20\n",
      "2135/2135 [==============================] - 1s 517us/step - loss: 1.9717\n",
      "Epoch 1/20\n",
      "2074/2074 [==============================] - 2s 992us/step - loss: 2.6907\n",
      "Epoch 2/20\n",
      "2074/2074 [==============================] - 1s 435us/step - loss: 2.6248\n",
      "Epoch 3/20\n",
      "2074/2074 [==============================] - 1s 409us/step - loss: 2.6081\n",
      "Epoch 4/20\n",
      "2074/2074 [==============================] - 1s 403us/step - loss: 2.5893\n",
      "Epoch 5/20\n",
      "2074/2074 [==============================] - 1s 396us/step - loss: 2.5712\n",
      "Epoch 6/20\n",
      "2074/2074 [==============================] - 1s 589us/step - loss: 2.5524\n",
      "Epoch 7/20\n",
      "2074/2074 [==============================] - 1s 562us/step - loss: 2.5267 0s - loss:\n",
      "Epoch 8/20\n",
      "2074/2074 [==============================] - 1s 623us/step - loss: 2.5000\n",
      "Epoch 9/20\n",
      "2074/2074 [==============================] - 1s 577us/step - loss: 2.4582\n",
      "Epoch 10/20\n",
      "2074/2074 [==============================] - 1s 541us/step - loss: 2.4118\n",
      "Epoch 11/20\n",
      "2074/2074 [==============================] - 1s 494us/step - loss: 2.3728\n",
      "Epoch 12/20\n",
      "2074/2074 [==============================] - 1s 483us/step - loss: 2.3145\n",
      "Epoch 13/20\n",
      "2074/2074 [==============================] - 1s 483us/step - loss: 2.2613\n",
      "Epoch 14/20\n",
      "2074/2074 [==============================] - 1s 392us/step - loss: 2.2010\n",
      "Epoch 15/20\n",
      "2074/2074 [==============================] - 1s 466us/step - loss: 2.1488\n",
      "Epoch 16/20\n",
      "2074/2074 [==============================] - 1s 419us/step - loss: 2.0972\n",
      "Epoch 17/20\n",
      "2074/2074 [==============================] - 1s 380us/step - loss: 2.0464\n",
      "Epoch 18/20\n",
      "2074/2074 [==============================] - 1s 400us/step - loss: 1.9988\n",
      "Epoch 19/20\n",
      "2074/2074 [==============================] - 1s 416us/step - loss: 1.9530\n",
      "Epoch 20/20\n",
      "2074/2074 [==============================] - 1s 392us/step - loss: 1.9113\n",
      "Epoch 1/20\n",
      "2013/2013 [==============================] - 2s 959us/step - loss: 2.6862\n",
      "Epoch 2/20\n",
      "2013/2013 [==============================] - 1s 400us/step - loss: 2.6284\n",
      "Epoch 3/20\n",
      "2013/2013 [==============================] - 1s 399us/step - loss: 2.6066\n",
      "Epoch 4/20\n",
      "2013/2013 [==============================] - 1s 415us/step - loss: 2.5899\n",
      "Epoch 5/20\n",
      "2013/2013 [==============================] - 1s 439us/step - loss: 2.5708\n",
      "Epoch 6/20\n",
      "2013/2013 [==============================] - 1s 445us/step - loss: 2.5506\n",
      "Epoch 7/20\n",
      "2013/2013 [==============================] - 1s 451us/step - loss: 2.5259\n",
      "Epoch 8/20\n",
      "2013/2013 [==============================] - 1s 451us/step - loss: 2.4948\n",
      "Epoch 9/20\n",
      "2013/2013 [==============================] - 1s 484us/step - loss: 2.4542\n",
      "Epoch 10/20\n",
      "2013/2013 [==============================] - 1s 557us/step - loss: 2.4047\n",
      "Epoch 11/20\n",
      "2013/2013 [==============================] - 1s 536us/step - loss: 2.3478\n",
      "Epoch 12/20\n",
      "2013/2013 [==============================] - 1s 447us/step - loss: 2.2905\n",
      "Epoch 13/20\n",
      "2013/2013 [==============================] - 1s 512us/step - loss: 2.2341\n",
      "Epoch 14/20\n",
      "2013/2013 [==============================] - 1s 485us/step - loss: 2.1723\n",
      "Epoch 15/20\n",
      "2013/2013 [==============================] - 1s 465us/step - loss: 2.1165\n",
      "Epoch 16/20\n"
     ]
    },
    {
     "name": "stdout",
     "output_type": "stream",
     "text": [
      "2013/2013 [==============================] - 1s 451us/step - loss: 2.0560\n",
      "Epoch 17/20\n",
      "2013/2013 [==============================] - 1s 455us/step - loss: 2.0005\n",
      "Epoch 18/20\n",
      "2013/2013 [==============================] - 1s 489us/step - loss: 1.9549\n",
      "Epoch 19/20\n",
      "2013/2013 [==============================] - 1s 534us/step - loss: 1.9045\n",
      "Epoch 20/20\n",
      "2013/2013 [==============================] - 1s 516us/step - loss: 1.8623\n",
      "Epoch 1/20\n",
      "1952/1952 [==============================] - 2s 1ms/step - loss: 2.6897\n",
      "Epoch 2/20\n",
      "1952/1952 [==============================] - 1s 451us/step - loss: 2.6295\n",
      "Epoch 3/20\n",
      "1952/1952 [==============================] - 1s 489us/step - loss: 2.6123\n",
      "Epoch 4/20\n",
      "1952/1952 [==============================] - 1s 567us/step - loss: 2.5904\n",
      "Epoch 5/20\n",
      "1952/1952 [==============================] - 1s 576us/step - loss: 2.5761\n",
      "Epoch 6/20\n",
      "1952/1952 [==============================] - 1s 596us/step - loss: 2.5553\n",
      "Epoch 7/20\n",
      "1952/1952 [==============================] - 1s 513us/step - loss: 2.5271\n",
      "Epoch 8/20\n",
      "1952/1952 [==============================] - 1s 629us/step - loss: 2.4953\n",
      "Epoch 9/20\n",
      "1952/1952 [==============================] - 1s 673us/step - loss: 2.4537\n",
      "Epoch 10/20\n",
      "1952/1952 [==============================] - 1s 583us/step - loss: 2.4075\n",
      "Epoch 11/20\n",
      "1952/1952 [==============================] - 1s 481us/step - loss: 2.3570\n",
      "Epoch 12/20\n",
      "1952/1952 [==============================] - 1s 533us/step - loss: 2.2903\n",
      "Epoch 13/20\n",
      "1952/1952 [==============================] - 1s 653us/step - loss: 2.2327\n",
      "Epoch 14/20\n",
      "1952/1952 [==============================] - 1s 636us/step - loss: 2.1763\n",
      "Epoch 15/20\n",
      "1952/1952 [==============================] - 1s 739us/step - loss: 2.1181\n",
      "Epoch 16/20\n",
      "1952/1952 [==============================] - 1s 488us/step - loss: 2.0624\n",
      "Epoch 17/20\n",
      "1952/1952 [==============================] - 1s 586us/step - loss: 2.0011\n",
      "Epoch 18/20\n",
      "1952/1952 [==============================] - 2s 799us/step - loss: 1.9541\n",
      "Epoch 19/20\n",
      "1952/1952 [==============================] - 2s 1ms/step - loss: 1.9103\n",
      "Epoch 20/20\n",
      "1952/1952 [==============================] - 2s 863us/step - loss: 1.8625\n",
      "Epoch 1/20\n",
      "1891/1891 [==============================] - 3s 2ms/step - loss: 2.7085\n",
      "Epoch 2/20\n",
      "1891/1891 [==============================] - 1s 531us/step - loss: 2.6412\n",
      "Epoch 3/20\n",
      "1891/1891 [==============================] - 2s 898us/step - loss: 2.6192\n",
      "Epoch 4/20\n",
      "1891/1891 [==============================] - 1s 613us/step - loss: 2.5998\n",
      "Epoch 5/20\n",
      "1891/1891 [==============================] - 1s 537us/step - loss: 2.5766\n",
      "Epoch 6/20\n",
      "1891/1891 [==============================] - 1s 521us/step - loss: 2.5584\n",
      "Epoch 7/20\n",
      "1891/1891 [==============================] - 1s 670us/step - loss: 2.5325\n",
      "Epoch 8/20\n",
      "1891/1891 [==============================] - 1s 654us/step - loss: 2.5026\n",
      "Epoch 9/20\n",
      "1891/1891 [==============================] - 1s 546us/step - loss: 2.4681\n",
      "Epoch 10/20\n",
      "1891/1891 [==============================] - 1s 511us/step - loss: 2.4162\n",
      "Epoch 11/20\n",
      "1891/1891 [==============================] - 1s 564us/step - loss: 2.3749\n",
      "Epoch 12/20\n",
      "1891/1891 [==============================] - 1s 569us/step - loss: 2.3172\n",
      "Epoch 13/20\n",
      "1891/1891 [==============================] - 1s 571us/step - loss: 2.2700\n",
      "Epoch 14/20\n",
      "1891/1891 [==============================] - 1s 531us/step - loss: 2.2104\n",
      "Epoch 15/20\n",
      "1891/1891 [==============================] - 1s 506us/step - loss: 2.1588\n",
      "Epoch 16/20\n",
      "1891/1891 [==============================] - 1s 547us/step - loss: 2.1030\n",
      "Epoch 17/20\n",
      "1891/1891 [==============================] - 1s 513us/step - loss: 2.0478\n",
      "Epoch 18/20\n",
      "1891/1891 [==============================] - 1s 527us/step - loss: 2.0071\n",
      "Epoch 19/20\n",
      "1891/1891 [==============================] - 1s 554us/step - loss: 1.9503\n",
      "Epoch 20/20\n",
      "1891/1891 [==============================] - 2s 901us/step - loss: 1.9086 0s - loss: 1.\n",
      "Epoch 1/20\n",
      "1830/1830 [==============================] - 2s 1ms/step - loss: 2.7004\n",
      "Epoch 2/20\n",
      "1830/1830 [==============================] - 1s 629us/step - loss: 2.6300\n",
      "Epoch 3/20\n",
      "1830/1830 [==============================] - 1s 525us/step - loss: 2.6119\n",
      "Epoch 4/20\n",
      "1830/1830 [==============================] - 1s 528us/step - loss: 2.5900\n",
      "Epoch 5/20\n",
      "1830/1830 [==============================] - 1s 576us/step - loss: 2.5702\n",
      "Epoch 6/20\n",
      "1830/1830 [==============================] - 1s 609us/step - loss: 2.5475\n",
      "Epoch 7/20\n",
      "1830/1830 [==============================] - 1s 645us/step - loss: 2.5180\n",
      "Epoch 8/20\n",
      "1830/1830 [==============================] - 1s 672us/step - loss: 2.4800\n",
      "Epoch 9/20\n",
      "1830/1830 [==============================] - 1s 632us/step - loss: 2.4438\n",
      "Epoch 10/20\n",
      "1830/1830 [==============================] - 2s 898us/step - loss: 2.3974\n",
      "Epoch 11/20\n",
      "1830/1830 [==============================] - 1s 771us/step - loss: 2.3336\n",
      "Epoch 12/20\n",
      "1830/1830 [==============================] - 1s 680us/step - loss: 2.2747\n",
      "Epoch 13/20\n",
      "1830/1830 [==============================] - 1s 644us/step - loss: 2.2211\n",
      "Epoch 14/20\n",
      "1830/1830 [==============================] - 1s 747us/step - loss: 2.1636\n",
      "Epoch 15/20\n",
      "1830/1830 [==============================] - 1s 687us/step - loss: 2.0967\n",
      "Epoch 16/20\n",
      "1830/1830 [==============================] - 1s 661us/step - loss: 2.0377\n",
      "Epoch 17/20\n",
      "1830/1830 [==============================] - 1s 635us/step - loss: 1.9984\n",
      "Epoch 18/20\n",
      "1830/1830 [==============================] - 1s 636us/step - loss: 1.9393\n",
      "Epoch 19/20\n",
      "1830/1830 [==============================] - 1s 649us/step - loss: 1.8991\n",
      "Epoch 20/20\n",
      "1830/1830 [==============================] - 2s 859us/step - loss: 1.8564\n",
      "Epoch 1/20\n",
      "1769/1769 [==============================] - 3s 2ms/step - loss: 2.7079\n",
      "Epoch 2/20\n",
      "1769/1769 [==============================] - 2s 915us/step - loss: 2.6389\n",
      "Epoch 3/20\n",
      "1769/1769 [==============================] - 2s 1ms/step - loss: 2.6198\n",
      "Epoch 4/20\n",
      "1769/1769 [==============================] - 1s 792us/step - loss: 2.6002\n",
      "Epoch 5/20\n",
      "1769/1769 [==============================] - 1s 750us/step - loss: 2.5732\n",
      "Epoch 6/20\n",
      "1769/1769 [==============================] - 1s 798us/step - loss: 2.5507\n",
      "Epoch 7/20\n",
      "1769/1769 [==============================] - 1s 805us/step - loss: 2.5178\n",
      "Epoch 8/20\n",
      "1769/1769 [==============================] - 1s 644us/step - loss: 2.4826\n",
      "Epoch 9/20\n",
      "1769/1769 [==============================] - 1s 544us/step - loss: 2.4371\n",
      "Epoch 10/20\n",
      "1769/1769 [==============================] - 1s 648us/step - loss: 2.3776 0s \n",
      "Epoch 11/20\n",
      "1769/1769 [==============================] - 1s 566us/step - loss: 2.3191\n",
      "Epoch 12/20\n",
      "1769/1769 [==============================] - 1s 597us/step - loss: 2.2581\n",
      "Epoch 13/20\n",
      "1769/1769 [==============================] - 1s 616us/step - loss: 2.2016\n",
      "Epoch 14/20\n",
      "1769/1769 [==============================] - 1s 709us/step - loss: 2.1434 0s - loss: \n",
      "Epoch 15/20\n",
      "1769/1769 [==============================] - 1s 702us/step - loss: 2.0791 0s\n",
      "Epoch 16/20\n",
      "1769/1769 [==============================] - 1s 597us/step - loss: 2.0225\n",
      "Epoch 17/20\n",
      "1769/1769 [==============================] - 1s 653us/step - loss: 1.9616 0s \n",
      "Epoch 18/20\n",
      "1769/1769 [==============================] - 1s 684us/step - loss: 1.9247\n",
      "Epoch 19/20\n",
      "1769/1769 [==============================] - 1s 685us/step - loss: 1.8704\n",
      "Epoch 20/20\n",
      "1769/1769 [==============================] - 1s 628us/step - loss: 1.8277\n",
      "Epoch 1/20\n",
      "1708/1708 [==============================] - 3s 2ms/step - loss: 2.6965\n",
      "Epoch 2/20\n",
      "1708/1708 [==============================] - 1s 576us/step - loss: 2.6388\n",
      "Epoch 3/20\n",
      "1708/1708 [==============================] - 1s 553us/step - loss: 2.6161\n",
      "Epoch 4/20\n",
      "1708/1708 [==============================] - 1s 600us/step - loss: 2.5930\n",
      "Epoch 5/20\n",
      "1708/1708 [==============================] - 1s 734us/step - loss: 2.5745\n",
      "Epoch 6/20\n",
      "1708/1708 [==============================] - 2s 1ms/step - loss: 2.5515A: 0s - loss\n",
      "Epoch 7/20\n",
      "1708/1708 [==============================] - 2s 1ms/step - loss: 2.5202\n",
      "Epoch 8/20\n",
      "1708/1708 [==============================] - 2s 1ms/step - loss: 2.4802\n",
      "Epoch 9/20\n",
      "1708/1708 [==============================] - 2s 1ms/step - loss: 2.4452\n",
      "Epoch 10/20\n",
      "1708/1708 [==============================] - 2s 1ms/step - loss: 2.3880\n",
      "Epoch 11/20\n"
     ]
    },
    {
     "name": "stdout",
     "output_type": "stream",
     "text": [
      "1708/1708 [==============================] - 2s 1ms/step - loss: 2.3273\n",
      "Epoch 12/20\n",
      "1708/1708 [==============================] - 2s 1ms/step - loss: 2.2686\n",
      "Epoch 13/20\n",
      "1708/1708 [==============================] - 2s 1ms/step - loss: 2.2124A: 1s - loss: 2 - ETA: 1s \n",
      "Epoch 14/20\n",
      "1708/1708 [==============================] - 2s 896us/step - loss: 2.1540\n",
      "Epoch 15/20\n",
      "1708/1708 [==============================] - 2s 1ms/step - loss: 2.0873\n",
      "Epoch 16/20\n",
      "1708/1708 [==============================] - 2s 880us/step - loss: 2.0413\n",
      "Epoch 17/20\n",
      "1708/1708 [==============================] - 1s 870us/step - loss: 1.9791\n",
      "Epoch 18/20\n",
      "1708/1708 [==============================] - 2s 953us/step - loss: 1.9378\n",
      "Epoch 19/20\n",
      "1708/1708 [==============================] - 2s 1ms/step - loss: 1.8881\n",
      "Epoch 20/20\n",
      "1708/1708 [==============================] - 1s 810us/step - loss: 1.8524\n"
     ]
    }
   ],
   "source": [
    "for i in range(max_sequence_length):\n",
    "    print(\"\")\n",
    "    print(\"Sequence Length of \" + str(i))\n",
    "    for size in layer_sizes:\n",
    "        key = str(size)+'_neuron_layers'       \n",
    "        # define the LSTM model\n",
    "        model = Sequential()\n",
    "        model.add(LSTM(size, input_shape=(i+1, nteams)))\n",
    "        model.add(Dropout(0.2))\n",
    "        #model.add(Dense(nteams, activation='softmax'))\n",
    "        model.add(Dense(nteams, activation='tanh'))\n",
    "        #model.compile(loss='categorical_crossentropy', optimizer='adam')\n",
    "        model.compile(loss='mean_squared_error', optimizer='adam')\n",
    "        histories[key].append(model.fit(X_trainings[i], np.array(Y_trainings[i]), epochs=epochs))\n",
    "        rnns[key].append(model)"
   ]
  },
  {
   "cell_type": "code",
   "execution_count": 29,
   "metadata": {
    "collapsed": true
   },
   "outputs": [],
   "source": [
    "def score(key):\n",
    "    training_accs = []\n",
    "    training_errs = []\n",
    "\n",
    "    with open('rnn_nt_training_scores_' + key + '.csv', 'w') as f:\n",
    "        writer = csv.writer(f)\n",
    "        writer.writerow(['Games before prediction', 'Accuracy', 'Euclidean Error'])\n",
    "        print(\"training\")\n",
    "        for i in range(max_sequence_length):\n",
    "            print(i)\n",
    "            outputs = rnns[key][i].predict(X_trainings[i])\n",
    "            acc = 1 - disc_error(outputs, np.array(Y_trainings[i]))\n",
    "            eerr = eucl_error(outputs, np.array(Y_trainings[i]))\n",
    "\n",
    "            writer.writerow([i, acc, eerr])\n",
    "            training_accs.append(acc)\n",
    "            training_errs.append(eerr)\n",
    "            \n",
    "    testing_accs = []\n",
    "    testing_errs = []\n",
    "\n",
    "    with open('rnn_nt_testing_scores_' + key + '.csv', 'w') as f:\n",
    "        writer = csv.writer(f)\n",
    "        writer.writerow(['Games before prediction', 'Accuracy', 'Euclidean Error'])\n",
    "        print(\"testing\")\n",
    "        for i in range(max_sequence_length):\n",
    "            print(i)\n",
    "            outputs = rnns[key][i].predict(X_testings[i])\n",
    "            acc = 1 - disc_error(outputs, np.array(Y_testings[i]))\n",
    "            eerr = eucl_error(outputs, np.array(Y_testings[i]))\n",
    "\n",
    "            writer.writerow([i, acc, eerr])\n",
    "            testing_accs.append(acc)\n",
    "            testing_errs.append(eerr)\n",
    "    \n",
    "    training_accs_dict[key] = training_accs\n",
    "    training_errs_dict[key] = training_errs\n",
    "    testing_accs_dict[key] = testing_accs\n",
    "    testing_errs_dict[key] = testing_errs"
   ]
  },
  {
   "cell_type": "code",
   "execution_count": 30,
   "metadata": {
    "collapsed": true
   },
   "outputs": [],
   "source": [
    "training_accs_dict = {}\n",
    "training_errs_dict = {}\n",
    "testing_accs_dict = {}\n",
    "testing_errs_dict = {}"
   ]
  },
  {
   "cell_type": "code",
   "execution_count": 40,
   "metadata": {},
   "outputs": [
    {
     "data": {
      "image/png": "[encoded data removed]",
      "text/plain": [
       "<matplotlib.figure.Figure at 0x1a37ff8e10>"
      ]
     },
     "metadata": {},
     "output_type": "display_data"
    }
   ],
   "source": [
    "plt.plot(histories['200_neuron_layers'][7].history['loss'])\n",
    "plt.show()"
   ]
  },
  {
   "cell_type": "code",
   "execution_count": null,
   "metadata": {
    "collapsed": true
   },
   "outputs": [],
   "source": []
  },
  {
   "cell_type": "code",
   "execution_count": 31,
   "metadata": {},
   "outputs": [
    {
     "name": "stdout",
     "output_type": "stream",
     "text": [
      "200\n",
      "training\n",
      "0\n",
      "1\n",
      "2\n",
      "3\n",
      "4\n",
      "5\n",
      "6\n",
      "7\n",
      "8\n",
      "9\n",
      "testing\n",
      "0\n",
      "1\n",
      "2\n",
      "3\n",
      "4\n",
      "5\n",
      "6\n",
      "7\n",
      "8\n",
      "9\n"
     ]
    }
   ],
   "source": [
    "for size in layer_sizes:\n",
    "    print(size)\n",
    "    key = str(size)+'_neuron_layers'\n",
    "    score(key)"
   ]
  },
  {
   "cell_type": "code",
   "execution_count": 32,
   "metadata": {
    "collapsed": true
   },
   "outputs": [],
   "source": [
    "def plot(y, ylabel, title, imname, ylim):\n",
    "    x = range(1,max_sequence_length+1)\n",
    "    yfit = np.poly1d(np.polyfit(x, y, 1))(np.unique(x))\n",
    "    r2 = np.round(r2_score(y, yfit),decimals=2)\n",
    "    mean = np.round(np.mean(y), decimals=2)\n",
    "\n",
    "    plt.scatter(x, y, s = 5)\n",
    "    plt.plot(x, yfit)\n",
    "    plt.axis([0,max_sequence_length+1,0,ylim])\n",
    "    plt.text(1, 0.95, 'R^2: ' + str(r2))\n",
    "    plt.text(1, 0.85, 'Mean: ' + str(mean))\n",
    "    plt.xlabel('Games before prediction')\n",
    "    plt.ylabel(ylabel)\n",
    "    plt.title(title)\n",
    "    plt.savefig('rnnntplots/' + imname + '.png')\n",
    "    plt.show()"
   ]
  },
  {
   "cell_type": "code",
   "execution_count": 33,
   "metadata": {
    "scrolled": true
   },
   "outputs": [
    {
     "data": {
      "image/png": "[encoded data removed]",
      "text/plain": [
       "<matplotlib.figure.Figure at 0x1a37bd6fd0>"
      ]
     },
     "metadata": {},
     "output_type": "display_data"
    },
    {
     "data": {
      "image/png": "[encoded data removed]",
      "text/plain": [
       "<matplotlib.figure.Figure at 0x1a3942ee80>"
      ]
     },
     "metadata": {},
     "output_type": "display_data"
    },
    {
     "data": {
      "image/png": "[encoded data removed]",
      "text/plain": [
       "<matplotlib.figure.Figure at 0x1a2f050b00>"
      ]
     },
     "metadata": {},
     "output_type": "display_data"
    },
    {
     "data": {
      "image/png": "[encoded data removed]",
      "text/plain": [
       "<matplotlib.figure.Figure at 0x1a2dbfd5c0>"
      ]
     },
     "metadata": {},
     "output_type": "display_data"
    }
   ],
   "source": [
    "for size in layer_sizes:\n",
    "    key = str(size)+'_neuron_layers'\n",
    "    title = ' ' + str(size) + ' LSTM Layer'\n",
    "    plot(training_errs_dict[key], 'Euclidian Error', 'RNN Non-Ternary Training Euclidean Error' + title, 'rnn_nt_training_error_plot_'+key, 2)\n",
    "    plot(testing_errs_dict[key], 'Euclidian Error', 'RNN Non-Ternary Testing Euclidean Error' + title, 'rnn_nt_testing_error_plot_'+key, 2)\n",
    "    plot(training_accs_dict[key], 'Accuracy', 'RNN Non-Ternary Training Accuracy' + title, 'rnn_nt_training_accuracy_plot_'+key, 1)\n",
    "    plot(testing_accs_dict[key], 'Accuracy', 'RNN Non-Ternary Testing Accuracy' + title, 'rnn_nt_testing_accuracy_plot_'+key, 1)"
   ]
  },
  {
   "cell_type": "code",
   "execution_count": null,
   "metadata": {
    "collapsed": true
   },
   "outputs": [],
   "source": []
  }
 ],
 "metadata": {
  "kernelspec": {
   "display_name": "Python 3",
   "language": "python",
   "name": "python3"
  },
  "language_info": {
   "codemirror_mode": {
    "name": "ipython",
    "version": 3
   },
   "file_extension": ".py",
   "mimetype": "text/x-python",
   "name": "python",
   "nbconvert_exporter": "python",
   "pygments_lexer": "ipython3",
   "version": "3.6.3"
  }
 },
 "nbformat": 4,
 "nbformat_minor": 2
}
